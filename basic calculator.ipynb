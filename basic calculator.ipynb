{
 "cells": [
  {
   "cell_type": "code",
   "execution_count": null,
   "id": "4b880fcb",
   "metadata": {},
   "outputs": [],
   "source": [
    "def addition(x,y):\n",
    "    return x+y\n",
    "\n",
    "def subtraction(x,y):\n",
    "    return x-y\n",
    "\n",
    "def multiplication(x,y):\n",
    "    return x*y\n",
    "\n",
    "def division(x,y):\n",
    "    return x / y\n",
    "\n",
    "print(\"Choose the method that want to use.\")\n",
    "print(\"1. Addition\")\n",
    "print(\"2. Subtraction\")\n",
    "print(\"3. Multiplication\")\n",
    "print(\"4. Division\")\n",
    "\n",
    "choice = input(\"Your choice (1/2/3/4): \")\n",
    "\n",
    "number1 = float(input(\"Write first number : \"))\n",
    "number2 = float(input(\"Write second number : \"))\n",
    "\n",
    "if choice == '1':\n",
    "    print(number1,\"+\",number2,\"=\",addition(number1, number2))\n",
    "elif choice == '2':\n",
    "    print(number1,\"-\",number2,\"=\",subtraction(number1, number2))\n",
    "elif choice == '3':\n",
    "    print(number1,\"*\",number2,\"=\",multiplication(number1, number2))\n",
    "elif choice == '4':\n",
    "    if number2 == 0:\n",
    "        print(\"A number can't divide by 0!\")\n",
    "    else:\n",
    "        print(number1,\"/\",number2,\"=\",division(number1, number2))\n",
    "else:\n",
    "    print(\"Invalid choice! Try again.\")"
   ]
  }
 ],
 "metadata": {
  "kernelspec": {
   "display_name": "Python 3 (ipykernel)",
   "language": "python",
   "name": "python3"
  },
  "language_info": {
   "codemirror_mode": {
    "name": "ipython",
    "version": 3
   },
   "file_extension": ".py",
   "mimetype": "text/x-python",
   "name": "python",
   "nbconvert_exporter": "python",
   "pygments_lexer": "ipython3",
   "version": "3.11.4"
  }
 },
 "nbformat": 4,
 "nbformat_minor": 5
}
